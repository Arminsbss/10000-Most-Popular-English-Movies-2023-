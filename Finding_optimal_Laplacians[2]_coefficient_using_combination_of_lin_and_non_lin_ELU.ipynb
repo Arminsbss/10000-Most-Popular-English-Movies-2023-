{
  "nbformat": 4,
  "nbformat_minor": 0,
  "metadata": {
    "colab": {
      "provenance": [],
      "authorship_tag": "ABX9TyOeLSUT7lFci3dV5MasGi3T",
      "include_colab_link": true
    },
    "kernelspec": {
      "name": "python3",
      "display_name": "Python 3"
    },
    "language_info": {
      "name": "python"
    },
    "accelerator": "TPU"
  },
  "cells": [
    {
      "cell_type": "markdown",
      "metadata": {
        "id": "view-in-github",
        "colab_type": "text"
      },
      "source": [
        "<a href=\"https://colab.research.google.com/github/Arminsbss/10000-Most-Popular-English-Movies-2023-/blob/main/Finding_optimal_Laplacians%5B2%5D_coefficient_using_combination_of_lin_and_non_lin_ELU.ipynb\" target=\"_parent\"><img src=\"https://colab.research.google.com/assets/colab-badge.svg\" alt=\"Open In Colab\"/></a>"
      ]
    },
    {
      "cell_type": "markdown",
      "source": [
        "alpha= 0.18520804329416918"
      ],
      "metadata": {
        "id": "SNoZbwMbynr6"
      }
    },
    {
      "cell_type": "code",
      "execution_count": 1,
      "metadata": {
        "colab": {
          "base_uri": "https://localhost:8080/"
        },
        "id": "QGnOA_G72-Wm",
        "outputId": "e97f1576-c7da-49b5-c51c-80957c45fad6"
      },
      "outputs": [
        {
          "output_type": "stream",
          "name": "stdout",
          "text": [
            "Cloning into 'simplicial_neural_networks'...\n",
            "remote: Enumerating objects: 339, done.\u001b[K\n",
            "remote: Counting objects: 100% (59/59), done.\u001b[K\n",
            "remote: Compressing objects: 100% (11/11), done.\u001b[K\n",
            "remote: Total 339 (delta 50), reused 48 (delta 48), pack-reused 280\u001b[K\n",
            "Receiving objects: 100% (339/339), 2.42 MiB | 11.22 MiB/s, done.\n",
            "Resolving deltas: 100% (189/189), done.\n"
          ]
        }
      ],
      "source": [
        "!git clone https://github.com/stefaniaebli/simplicial_neural_networks.git"
      ]
    },
    {
      "cell_type": "code",
      "source": [
        "import random\n",
        "import os\n",
        "import numpy as np\n",
        "from sklearn.metrics import accuracy_score\n",
        "import math\n",
        "\n",
        "Iteration=1\n",
        "random_numbers=[]\n",
        "accuracies_for_0_laplacian=[]\n",
        "accuracies_for_1_laplacian=[]\n",
        "accuracies_for_2_laplacian=[]\n",
        "\n",
        "while Iteration<=1:\n",
        "  %cd /content/simplicial_neural_networks/data/s2_3_collaboration_complex\n",
        "  laplacians = np.load('150250_laplacians.npy',allow_pickle=True)\n",
        "\n",
        "  random_number = 0.18520804329416918\n",
        "  random_numbers.append(random_number)\n",
        "\n",
        "  for i in range(4697):\n",
        "    laplacians[2].data[i] *= random_number\n",
        "  for i in range(3285):\n",
        "    laplacians[2].data[(laplacians[2].row==i) & (laplacians[2].col==i)]+=1\n",
        "  for i in range(4697):\n",
        "    if laplacians[2].data[i]<=0:\n",
        "      laplacians[2].data[i] = math.exp(laplacians[2].data[i])-1\n",
        "\n",
        "  %cd /content/simplicial_neural_networks/data/s2_3_collaboration_complex\n",
        "  np.save('150250_laplacians.npy', laplacians)\n",
        "\n",
        "  %cd /content/simplicial_neural_networks\n",
        "  !python ./experiments/impute_citations.py ./data/s2_3_collaboration_complex ./experiments/output 150250 30\n",
        "\n",
        "  #calculating accuracy for the 0-laplacian\n",
        "  %cd /content/simplicial_neural_networks/experiments/output\n",
        "\n",
        "  folder_path = '/content/simplicial_neural_networks/experiments/output'\n",
        "\n",
        "  files = os.listdir(folder_path)\n",
        "  files.sort()\n",
        "\n",
        "  prediction = []\n",
        "  actual = []\n",
        "\n",
        "  for filename in os.listdir('.'):\n",
        "    if filename.startswith('prediction') and filename.endswith('0.txt'):\n",
        "      with open(filename, 'r') as f:\n",
        "          numbers_str = f.read()\n",
        "      numbers_list = numbers_str.split()\n",
        "      numbers_int = list(map(float, numbers_list))\n",
        "      prediction += numbers_int\n",
        "    elif filename.startswith('actual') and filename.endswith('0.txt'):\n",
        "      with open(filename, 'r') as f:\n",
        "          numbers_str = f.read()\n",
        "      numbers_list = numbers_str.split()\n",
        "      numbers_int = list(map(float, numbers_list))\n",
        "      actual += numbers_int\n",
        "  prediction = [round(x, 0) for x in prediction]\n",
        "  actual = [round(x, 0) for x in actual]\n",
        "\n",
        "  accuracy = accuracy_score(actual, prediction)\n",
        "  accuracies_for_0_laplacian.append(accuracy)\n",
        "  print(\"We set this random number: \",random_number)\n",
        "  print(f'Accuracy for 0-laplacian: {accuracy}')\n",
        "\n",
        "  #calculating accuracy for the 1-laplacian\n",
        "  prediction = []\n",
        "  actual = []\n",
        "\n",
        "  for filename in os.listdir('.'):\n",
        "      if filename.startswith('prediction') and filename.endswith('1.txt'):\n",
        "          with open(filename, 'r') as f:\n",
        "              numbers_str = f.read()\n",
        "          numbers_list = numbers_str.split()\n",
        "          numbers_int = list(map(float, numbers_list))\n",
        "          prediction += numbers_int\n",
        "      elif filename.startswith('actual') and filename.endswith('1.txt'):\n",
        "          with open(filename, 'r') as f:\n",
        "              numbers_str = f.read()\n",
        "          numbers_list = numbers_str.split()\n",
        "          numbers_int = list(map(float, numbers_list))\n",
        "          actual += numbers_int\n",
        "  prediction = [round(x, 0) for x in prediction]\n",
        "  actual = [round(x, 0) for x in actual]\n",
        "\n",
        "  accuracy = accuracy_score(actual, prediction)\n",
        "  accuracies_for_1_laplacian.append(accuracy)\n",
        "  print(f'Accuracy for 1-laplacian: {accuracy}')\n",
        "\n",
        "  #calculating accuracy for the 2-laplacian\n",
        "  prediction = []\n",
        "  actual = []\n",
        "\n",
        "  for filename in os.listdir('.'):\n",
        "      if filename.startswith('prediction') and filename.endswith('2.txt'):\n",
        "          with open(filename, 'r') as f:\n",
        "              numbers_str = f.read()\n",
        "          numbers_list = numbers_str.split()\n",
        "          numbers_int = list(map(float, numbers_list))\n",
        "          prediction += numbers_int\n",
        "      elif filename.startswith('actual') and filename.endswith('2.txt'):\n",
        "          with open(filename, 'r') as f:\n",
        "              numbers_str = f.read()\n",
        "          numbers_list = numbers_str.split()\n",
        "          numbers_int = list(map(float, numbers_list))\n",
        "          actual += numbers_int\n",
        "  prediction = [round(x, 0) for x in prediction]\n",
        "  actual = [round(x, 0) for x in actual]\n",
        "\n",
        "  accuracy = accuracy_score(actual, prediction)\n",
        "  accuracies_for_2_laplacian.append(accuracy)\n",
        "  print(f'Accuracy for 2-laplacian: {accuracy}')\n",
        "\n",
        "  max_accuracy0 = max(accuracies_for_0_laplacian)\n",
        "  max_index0 = accuracies_for_0_laplacian.index(max_accuracy0)\n",
        "  print(f\"The maximum accuracy for 0 laplacian is: {max_accuracy0} and its index is: {max_index0} with coefficient {random_numbers[max_index0]}\")\n",
        "\n",
        "  max_accuracy1 = max(accuracies_for_1_laplacian)\n",
        "  max_index1 = accuracies_for_1_laplacian.index(max_accuracy1)\n",
        "  print(f\"The maximum accuracy for 1 laplacian is: {max_accuracy1} and its index is: {max_index1} with coefficient {random_numbers[max_index1]}\")\n",
        "\n",
        "  max_accuracy2 = max(accuracies_for_2_laplacian)\n",
        "  max_index2 = accuracies_for_2_laplacian.index(max_accuracy2)\n",
        "  print(f\"The maximum accuracy for 2 laplacian is: {max_accuracy2} and its index is: {max_index2} with coefficient {random_numbers[max_index2]}\")\n",
        "\n",
        "  Iteration+=1"
      ],
      "metadata": {
        "colab": {
          "base_uri": "https://localhost:8080/"
        },
        "id": "ffVIBHwdMFX9",
        "outputId": "965f5eec-d797-4a1f-d99f-6ecf6ebce71e"
      },
      "execution_count": 2,
      "outputs": [
        {
          "output_type": "stream",
          "name": "stdout",
          "text": [
            "/content/simplicial_neural_networks/data/s2_3_collaboration_complex\n",
            "/content/simplicial_neural_networks/data/s2_3_collaboration_complex\n",
            "/content/simplicial_neural_networks\n",
            "Parameter counts:\n",
            "150\n",
            "30\n",
            "4500\n",
            "30\n",
            "150\n",
            "1\n",
            "150\n",
            "30\n",
            "4500\n",
            "30\n",
            "150\n",
            "1\n",
            "150\n",
            "30\n",
            "4500\n",
            "30\n",
            "150\n",
            "1\n",
            "Total number of parameters: 14583\n",
            "[0.6988636363636364, 0.6994572591587517, 0.6998477929984779]\n",
            "/content/simplicial_neural_networks/experiments/output\n",
            "We set this random number:  0.18520804329416918\n",
            "Accuracy for 0-laplacian: 0.6426056910569106\n",
            "Accuracy for 1-laplacian: 0.6526779825412221\n",
            "Accuracy for 2-laplacian: 0.6478386254893432\n",
            "The maximum accuracy for 0 laplacian is: 0.6426056910569106 and its index is: 0 with coefficient 0.18520804329416918\n",
            "The maximum accuracy for 1 laplacian is: 0.6526779825412221 and its index is: 0 with coefficient 0.18520804329416918\n",
            "The maximum accuracy for 2 laplacian is: 0.6478386254893432 and its index is: 0 with coefficient 0.18520804329416918\n"
          ]
        }
      ]
    },
    {
      "cell_type": "code",
      "source": [
        "# 0-laplacian accuracies\n",
        "for i in range(len(accuracies_for_0_laplacian)):\n",
        "  print(\"0-laplacian accuracy: \",accuracies_for_0_laplacian[i],\"for random number: \",random_numbers[i])"
      ],
      "metadata": {
        "colab": {
          "base_uri": "https://localhost:8080/"
        },
        "id": "syWnD1_LDwbB",
        "outputId": "ff93f88a-8fb3-4117-e94a-741d8c46081e"
      },
      "execution_count": null,
      "outputs": [
        {
          "output_type": "stream",
          "name": "stdout",
          "text": [
            "0-laplacian accuracy:  0.6454959349593496 for random number:  0.33613847824158793\n",
            "0-laplacian accuracy:  0.6454959349593496 for random number:  0.046905905069712484\n",
            "0-laplacian accuracy:  0.6454959349593496 for random number:  0.5227792572248329\n",
            "0-laplacian accuracy:  0.6454959349593496 for random number:  0.08842297230228935\n",
            "0-laplacian accuracy:  0.6454959349593496 for random number:  0.8091709074593093\n",
            "0-laplacian accuracy:  0.6454959349593496 for random number:  0.7722377037540625\n",
            "0-laplacian accuracy:  0.6454959349593496 for random number:  0.3048853192901384\n",
            "0-laplacian accuracy:  0.6454959349593496 for random number:  0.18520804329416918\n",
            "0-laplacian accuracy:  0.6454959349593496 for random number:  0.8877777012124126\n",
            "0-laplacian accuracy:  0.6454959349593496 for random number:  0.9349789000712198\n"
          ]
        }
      ]
    },
    {
      "cell_type": "code",
      "source": [
        "# 1-laplacian accuracies\n",
        "for i in range(len(accuracies_for_1_laplacian)):\n",
        "  print(\"1-laplacian accuracy: \",accuracies_for_1_laplacian[i],\"for random number: \",random_numbers[i])"
      ],
      "metadata": {
        "colab": {
          "base_uri": "https://localhost:8080/"
        },
        "id": "u-2nCKKuE0Kr",
        "outputId": "9d03b9c5-81f0-4bca-8992-fe3ebfcc63ac"
      },
      "execution_count": null,
      "outputs": [
        {
          "output_type": "stream",
          "name": "stdout",
          "text": [
            "1-laplacian accuracy:  0.6508690591658584 for random number:  0.33613847824158793\n",
            "1-laplacian accuracy:  0.6508690591658584 for random number:  0.046905905069712484\n",
            "1-laplacian accuracy:  0.6508690591658584 for random number:  0.5227792572248329\n",
            "1-laplacian accuracy:  0.6508690591658584 for random number:  0.08842297230228935\n",
            "1-laplacian accuracy:  0.6508690591658584 for random number:  0.8091709074593093\n",
            "1-laplacian accuracy:  0.6508690591658584 for random number:  0.7722377037540625\n",
            "1-laplacian accuracy:  0.6508690591658584 for random number:  0.3048853192901384\n",
            "1-laplacian accuracy:  0.6508690591658584 for random number:  0.18520804329416918\n",
            "1-laplacian accuracy:  0.6508690591658584 for random number:  0.8877777012124126\n",
            "1-laplacian accuracy:  0.6508690591658584 for random number:  0.9349789000712198\n"
          ]
        }
      ]
    },
    {
      "cell_type": "code",
      "source": [
        "# 2-laplacian accuracies\n",
        "for i in range(len(accuracies_for_2_laplacian)):\n",
        "  print(\"2-laplacian accuracy: \",accuracies_for_2_laplacian[i],\"for random number: \",random_numbers[i])"
      ],
      "metadata": {
        "colab": {
          "base_uri": "https://localhost:8080/"
        },
        "id": "KwYQsSE_E1Fj",
        "outputId": "15ac3237-2e2a-4575-da43-5a679b9c24b4"
      },
      "execution_count": null,
      "outputs": [
        {
          "output_type": "stream",
          "name": "stdout",
          "text": [
            "2-laplacian accuracy:  0.6589556328838625 for random number:  0.33613847824158793\n",
            "2-laplacian accuracy:  0.6739630274032188 for random number:  0.046905905069712484\n",
            "2-laplacian accuracy:  0.6739360591561548 for random number:  0.5227792572248329\n",
            "2-laplacian accuracy:  0.6762035667681601 for random number:  0.08842297230228935\n",
            "2-laplacian accuracy:  0.6924388864723793 for random number:  0.8091709074593093\n",
            "2-laplacian accuracy:  0.6994454110482818 for random number:  0.7722377037540625\n",
            "2-laplacian accuracy:  0.6976933449325794 for random number:  0.3048853192901384\n",
            "2-laplacian accuracy:  0.7004306220095694 for random number:  0.18520804329416918\n",
            "2-laplacian accuracy:  0.6807294475859069 for random number:  0.8877777012124126\n",
            "2-laplacian accuracy:  0.6903758155719878 for random number:  0.9349789000712198\n"
          ]
        }
      ]
    },
    {
      "cell_type": "code",
      "source": [
        "print(\"Max accuracy we got: \",max_accuracy0,max_accuracy1,max_accuracy2)"
      ],
      "metadata": {
        "colab": {
          "base_uri": "https://localhost:8080/"
        },
        "id": "N386ALRTFaDQ",
        "outputId": "2bbd1ab2-6507-4efd-8708-88de281a03d5"
      },
      "execution_count": null,
      "outputs": [
        {
          "output_type": "stream",
          "name": "stdout",
          "text": [
            "Max accuracy we got:  0.6454959349593496 0.6508690591658584 0.7004306220095694\n"
          ]
        }
      ]
    }
  ]
}